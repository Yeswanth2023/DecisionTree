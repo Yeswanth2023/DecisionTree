{
  "nbformat": 4,
  "nbformat_minor": 0,
  "metadata": {
    "colab": {
      "provenance": []
    },
    "kernelspec": {
      "name": "python3",
      "display_name": "Python 3"
    },
    "language_info": {
      "name": "python"
    }
  },
  "cells": [
    {
      "cell_type": "code",
      "execution_count": 15,
      "metadata": {
        "colab": {
          "base_uri": "https://localhost:8080/"
        },
        "id": "M9xxxuYF3-BS",
        "outputId": "e3a696b2-8bb7-441e-c20b-6fd88f81d7af"
      },
      "outputs": [
        {
          "output_type": "stream",
          "name": "stdout",
          "text": [
            "Mean Absolute Error: 2835.312676300001\n"
          ]
        }
      ],
      "source": [
        "import pandas as pd\n",
        "from sklearn.tree import DecisionTreeRegressor\n",
        "from sklearn.model_selection import train_test_split\n",
        "\n",
        "# Load the dataset\n",
        "data = pd.read_csv('Car_Purchasing_Data.csv', encoding='ISO-8859-1')\n",
        "\n",
        "# Select the features\n",
        "X = data[['Gender', 'Age', 'Annual Salary', 'Credit Card Debt', 'Net Worth']]\n",
        "y = data['Car Purchase Amount']\n",
        "\n",
        "# Split the dataset into training and testing sets\n",
        "X_train, X_test, y_train, y_test = train_test_split(X, y, test_size=0.2, random_state=42)\n",
        "\n",
        "# Create the decision tree model\n",
        "model = DecisionTreeRegressor(random_state=42)\n",
        "\n",
        "# Train the model\n",
        "model.fit(X_train, y_train)\n",
        "\n",
        "# Make predictions on the test set\n",
        "y_pred = model.predict(X_test)\n",
        "\n",
        "# Calculate the mean absolute error (MAE)\n",
        "mae = abs(y_pred - y_test).mean()\n",
        "print('Mean Absolute Error:', mae)\n",
        "\n"
      ]
    },
    {
      "cell_type": "code",
      "source": [
        "import joblib\n",
        "# Save the model\n",
        "joblib.dump(model, 'decision_tree_model.pkl')"
      ],
      "metadata": {
        "colab": {
          "base_uri": "https://localhost:8080/"
        },
        "id": "vDA-Fk-V5Fzp",
        "outputId": "78a976b3-ad77-4aa4-cb1d-23684cf12d07"
      },
      "execution_count": 16,
      "outputs": [
        {
          "output_type": "execute_result",
          "data": {
            "text/plain": [
              "['decision_tree_model.pkl']"
            ]
          },
          "metadata": {},
          "execution_count": 16
        }
      ]
    },
    {
      "cell_type": "code",
      "source": [
        "# Define the input values\n",
        "gender = 0  # 0 for female, 1 for male\n",
        "age = 35\n",
        "annual_salary = 800000\n",
        "credit_card_debt = 100000\n",
        "net_worth = 250000\n",
        "\n",
        "# Create a pandas DataFrame with the input values\n",
        "input_data = pd.DataFrame([[gender, age, annual_salary, credit_card_debt, net_worth]], \n",
        "                          columns=['Gender', 'Age', 'Annual Salary', 'Credit Card Debt', 'Net Worth'])\n",
        "\n",
        "# Use the trained model to make a prediction for the input data\n",
        "predicted_car_purchase_amount = model.predict(input_data)\n",
        "\n",
        "# Print the predicted car purchase amount\n",
        "print('Predicted Car Purchase Amount:', predicted_car_purchase_amount[0])\n"
      ],
      "metadata": {
        "colab": {
          "base_uri": "https://localhost:8080/"
        },
        "id": "7uIT2KRu-0OR",
        "outputId": "2ef6d258-b05e-49e3-de21-bd23f6f58f36"
      },
      "execution_count": 18,
      "outputs": [
        {
          "output_type": "stream",
          "name": "stdout",
          "text": [
            "Predicted Car Purchase Amount: 47380.91224\n"
          ]
        }
      ]
    }
  ]
}